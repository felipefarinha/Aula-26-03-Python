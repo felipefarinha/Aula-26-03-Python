{
  "nbformat": 4,
  "nbformat_minor": 0,
  "metadata": {
    "colab": {
      "name": "Lista exerc. banco 21/05.ipynb",
      "provenance": [],
      "collapsed_sections": [],
      "mount_file_id": "1Jk7D9KODwU4g7fXGN8DpEiiNLt5yHlrW",
      "authorship_tag": "ABX9TyPSSUXGv6i5BW3P4JC9N4Ov",
      "include_colab_link": true
    },
    "kernelspec": {
      "name": "python3",
      "display_name": "Python 3"
    },
    "language_info": {
      "name": "python"
    }
  },
  "cells": [
    {
      "cell_type": "markdown",
      "metadata": {
        "id": "view-in-github",
        "colab_type": "text"
      },
      "source": [
        "<a href=\"https://colab.research.google.com/github/felipefarinha/Python-Estacio/blob/main/Lista_exerc_banco_21_05.ipynb\" target=\"_parent\"><img src=\"https://colab.research.google.com/assets/colab-badge.svg\" alt=\"Open In Colab\"/></a>"
      ]
    },
    {
      "cell_type": "markdown",
      "source": [
        "# Felipe Farinha da Costa \n",
        "# 202002250755"
      ],
      "metadata": {
        "id": "5eaez0KXz7Lo"
      }
    },
    {
      "cell_type": "code",
      "execution_count": null,
      "metadata": {
        "colab": {
          "base_uri": "https://localhost:8080/"
        },
        "id": "AzGJlFbpkhfR",
        "outputId": "57437b74-6244-457c-f4ee-43c2833faa6f"
      },
      "outputs": [
        {
          "output_type": "stream",
          "name": "stdout",
          "text": [
            "Mounted at /content/drive\n"
          ]
        }
      ],
      "source": [
        "import pandas as pd\n",
        "import numpy as np\n",
        "from statistics import mean\n",
        "\n",
        "from google.colab import drive\n",
        "drive.mount(\"/content/drive\", force_remount=True)\n",
        "\n",
        "url = '/content/drive/MyDrive/Colab Notebooks/BankChurners.csv'\n",
        "\n",
        "def load_data():\n",
        "  return pd.read_csv(url)\n",
        "\n",
        "banco = load_data()\n",
        "\n",
        "banco.head()\n",
        "\n",
        "banco.rename(columns = { 'CLIENTNUM': 'cliente_ID',\n",
        "                       'Attrition_Flag' : 'Flag',\n",
        "                       'Customer_Age': 'Idade',\n",
        "                       'Gender': 'Sexo', \n",
        "                       'Dependent_count': 'Número dep.',\n",
        "                       'Education_Level': 'Escolaridade', \n",
        "                       'Marital_Status': 'Estado civil',\n",
        "                       'Income_Category': 'Intervalo de renda',\n",
        "                       'Card_Category': 'Tipo de cartão' }, inplace = True)\n",
        "\n",
        "banco.drop(['Months_on_book',\n",
        "            'Total_Revolving_Bal',\n",
        "            'Avg_Open_To_Buy',\n",
        "            'Total_Relationship_Count',\n",
        "            'Months_Inactive_12_mon',\n",
        "            'Contacts_Count_12_mon',\n",
        "            'Total_Amt_Chng_Q4_Q1',\n",
        "            'Total_Trans_Amt',\n",
        "            'Total_Ct_Chng_Q4_Q1',\n",
        "            'Avg_Utilization_Ratio',\n",
        "            'Total_Trans_Ct',\n",
        "            'Naive_Bayes_Classifier_Attrition_Flag_Card_Category_Contacts_Count_12_mon_Dependent_count_Education_Level_Months_Inactive_12_mon_1',\n",
        "            'Naive_Bayes_Classifier_Attrition_Flag_Card_Category_Contacts_Count_12_mon_Dependent_count_Education_Level_Months_Inactive_12_mon_2'], axis = 1, inplace = True)\n"
      ]
    },
    {
      "cell_type": "markdown",
      "source": [
        "# 1 - Quantos clientes cancelaram o cartão de crédito?"
      ],
      "metadata": {
        "id": "qnMTc_eO2xgj"
      }
    },
    {
      "cell_type": "code",
      "source": [
        "card_canceled_Male = banco['cliente_ID'].loc[banco['Sexo']=='M'].loc[banco['Flag']=='Existing Customer'].count()\n",
        "# print(f'Quantidade de clientes demitidos (cancelaram) do cartão de crédito do sexo masculino: {card_canceled_Male}')\n",
        "print(f'M: {card_canceled_Male}')\n",
        "\n",
        "card_canceled_Female = banco['cliente_ID'].loc[banco['Sexo']=='F'].loc[banco['Flag']=='Existing Customer'].count()\n",
        "# print(f'Quantidade de clientes demitidos (cancelaram) do cartão de crédito do sexo masculino: {card_canceled_Female}')\n",
        "print(f'M: {card_canceled_Female}')\n",
        "\n",
        "print(f'{card_canceled_Male + card_canceled_Female} pessoas cancelaram o cartão de crédito')\n",
        "\n",
        "banco.loc[ banco['Flag'] == 'Existing Customer']['Flag'].groupby(banco['Sexo']).value_counts().plot(kind = 'bar')"
      ],
      "metadata": {
        "id": "yycN3XLlmWmu"
      },
      "execution_count": null,
      "outputs": []
    },
    {
      "cell_type": "markdown",
      "source": [
        "# 2 - Quantos clientes do sexo masculino cancelaram o cartão de crédito?\n",
        "\n",
        "# 3 - Quantos clientes do sexo feminino cancelaram o cartão de crédito?"
      ],
      "metadata": {
        "id": "a0HHRvQJ6UN7"
      }
    },
    {
      "cell_type": "code",
      "source": [
        "card_canceled_Male = banco['cliente_ID'].loc[banco['Sexo']=='M'].loc[banco['Flag']=='Existing Customer'].count()\n",
        "print(f'M: {card_canceled_Male}')\n",
        "\n",
        "clienteCanceledCardFemale = banco['cliente_ID'].loc[(banco['Sexo']=='F') & (banco['Flag']=='Existing Customer')].count()\n",
        "print(f'F: {clienteCanceledCardFemale}')\n",
        "\n",
        "banco['Idade'].loc[banco['Flag']== 'Existing Customer'].groupby(banco['Sexo']).count().plot(kind = 'bar')"
      ],
      "metadata": {
        "id": "2jk1Z2Cbo6l5"
      },
      "execution_count": null,
      "outputs": []
    },
    {
      "cell_type": "markdown",
      "source": [
        "# 4 - Qual a média de idade dos clientes do sexo feminino que cancelaram o cartão?\n",
        "\n",
        "# 5- Qual a média de idade dos clientes do sexo masculino que cancelaram o cartão?"
      ],
      "metadata": {
        "id": "8Q0sMiESRFDN"
      }
    },
    {
      "cell_type": "code",
      "source": [
        "mediaCanceledCardFemale = banco['Idade'].loc[(banco['Sexo']=='F') & (banco['Flag']=='Existing Customer')].mean()\n",
        "print(f'F: {round(mediaCanceledCardFemale, 2)}')\n",
        "\n",
        "mediaCanceledCardMale = banco['Idade'].loc[(banco['Sexo']=='M') & (banco['Flag']=='Existing Customer')].mean()\n",
        "print(f'F: {round(mediaCanceledCardMale, 2)}')\n",
        "\n",
        "banco['Idade'].loc[banco['Flag']== 'Existing Customer'].groupby(banco['Sexo']).count().plot(kind = 'bar')"
      ],
      "metadata": {
        "id": "m3FnQGZSRJ7V"
      },
      "execution_count": null,
      "outputs": []
    },
    {
      "cell_type": "markdown",
      "source": [
        "# 6 - Quantos clientes do sexo feminino têm 3 dependentes?\n",
        "\n",
        "# 7 - Quantos clientes do masculino têm 3 dependentes?"
      ],
      "metadata": {
        "id": "ybU37KbsvE0L"
      }
    },
    {
      "cell_type": "code",
      "source": [
        "quantClienteMale3denp = banco['cliente_ID'].loc[(banco['Sexo']=='M') & (banco['Número dep.']== 3)].count()\n",
        "print(f'F: {round(quantClienteMale3denp, 2)}')\n",
        "\n",
        "quantClienteFemale3denp = banco['cliente_ID'].loc[(banco['Sexo']=='F') & (banco['Número dep.']== 3)].count()\n",
        "print(f'F: {round(quantClienteFemale3denp, 2)}')\n",
        "\n",
        "banco['Sexo'].loc[banco['Número dep.']== 3].groupby(banco['Sexo']).count().plot(kind = 'bar')"
      ],
      "metadata": {
        "id": "CI0fjr8OvE0L"
      },
      "execution_count": null,
      "outputs": []
    },
    {
      "cell_type": "markdown",
      "source": [
        "# 8 - Quantos clientes do sexo feminino que cancelaram o cartão de crédito tem graduação?\n",
        "\n",
        "# 9 - Quantos clientes do sexo masculino que cancelaram o cartão de crédito tem graduação?"
      ],
      "metadata": {
        "id": "iHMfatPMvX_y"
      }
    },
    {
      "cell_type": "code",
      "source": [
        "quantClienteFemaleHaveGraduate = banco['cliente_ID'].loc[(banco['Sexo']=='F') & (banco['Flag']=='Attrited Customer') & (banco['Escolaridade']=='Graduate')].count()\n",
        "print(f'Quantidade de clientes do sexo feminino com graduação : {round(quantClienteFemaleHaveGraduate, 2)}')\n",
        "\n",
        "quantClienteMaleHaveGraduate = banco['cliente_ID'].loc[(banco['Sexo']=='M') & (banco['Flag']=='Attrited Customer') & (banco['Escolaridade']=='Graduate')].count()\n",
        "print(f'Quantidade de clientes do sexo masculino com graduação : {round(quantClienteMaleHaveGraduate, 2)}')\n",
        "\n",
        "banco['Sexo'].loc[banco['Flag'] == 'Attrited Customer'].loc[banco['Escolaridade'] == 'Graduate'].groupby(banco['Sexo']).count().plot(kind = 'bar')"
      ],
      "metadata": {
        "id": "FMYM7QF9vX_y"
      },
      "execution_count": null,
      "outputs": []
    },
    {
      "cell_type": "markdown",
      "source": [
        "# 12 - Quantos clientes do sexo feminino que cancelaram o cartão de crédito são casados?\n",
        "\n",
        "# 13 - Quantos clientes do sexo masculino que cancelaram o cartão de crédito são casados?"
      ],
      "metadata": {
        "id": "puC3OAGWwL5u"
      }
    },
    {
      "cell_type": "code",
      "source": [
        "quantClienteFemaleMarried = banco['cliente_ID'].loc[(banco['Sexo']=='F') & (banco['Flag']=='Attrited Customer') & (banco['Estado civil']=='Married')].count()\n",
        "print(f'Quantidade de clientes do sexo feminino casadas : {round(quantClienteFemaleMarried, 2)}')\n",
        "\n",
        "quantClienteFemaleMarried = banco['cliente_ID'].loc[(banco['Sexo']=='M') & (banco['Flag']=='Attrited Customer') & (banco['Estado civil']=='Married')].count()\n",
        "print(f'Quantidade de clientes do sexo masculino casados : {round(quantClienteFemaleMarried, 2)}')\n",
        "\n",
        "banco['Sexo'].loc[banco['Flag'] == 'Attrited Customer'].loc[banco['Estado civil'] == 'Married'].groupby(banco['Sexo']).count().plot(kind = 'bar')"
      ],
      "metadata": {
        "id": "CyZznnGewL5u"
      },
      "execution_count": null,
      "outputs": []
    },
    {
      "cell_type": "markdown",
      "source": [
        "# 14 - Quantos clientes do sexo feminino que cancelaram o cartão de crédito são divorciados?\n",
        "\n",
        "# 15 - Quantos clientes do sexo masculino que cancelaram o cartão de crédito são divorciados?"
      ],
      "metadata": {
        "id": "XJZweqI0wuR6"
      }
    },
    {
      "cell_type": "code",
      "source": [
        "quantClienteFemaleDivorced = banco['cliente_ID'].loc[(banco['Sexo']=='F') & (banco['Flag']=='Attrited Customer') & (banco['Estado civil']=='Divorced')].count()\n",
        "print(f'Quantidade de clientes do sexo feminino divorciadas : {round(quantClienteFemaleDivorced, 2)}')\n",
        "\n",
        "quantClienteMaleDivorced = banco['cliente_ID'].loc[(banco['Sexo']=='M') & (banco['Flag']=='Attrited Customer') & (banco['Estado civil']=='Divorced')].count()\n",
        "print(f'Quantidade de clientes do sexo masculino divorciadas : {round(quantClienteMaleDivorced, 2)}')\n",
        "\n",
        "banco['Sexo'].loc[banco['Flag'] == 'Attrited Customer'].loc[banco['Estado civil'] == 'Divorced'].groupby(banco['Sexo']).count().plot(kind = 'bar')"
      ],
      "metadata": {
        "id": "DC5AYGDbxAsY"
      },
      "execution_count": null,
      "outputs": []
    },
    {
      "cell_type": "markdown",
      "source": [
        "\n",
        "# 16 - Quantos clientes do sexo feminino que cancelaram o cartão de crédito tinham cartão tipo blue?\n",
        "\n",
        "# 17 - Quantos clientes do sexo masculino que cancelaram o cartão de crédito tinham cartão tipo blue?"
      ],
      "metadata": {
        "id": "MuxCMlOBD3mJ"
      }
    },
    {
      "cell_type": "code",
      "source": [
        "quantClienteFemaleAttritedTypecardBlue = banco['cliente_ID'].loc[(banco['Sexo']=='F') & (banco['Flag']=='Attrited Customer') & (banco['Tipo de cartão']=='Blue')].count()\n",
        "print(f'Quantidade de clientes do sexo masculino que cancelara o cartão tipo blue : {round(quantClienteFemaleAttritedTypecardBlue, 2)}')\n",
        "\n",
        "quantClienteMaleAttritedTypecardBlue = banco['cliente_ID'].loc[(banco['Sexo']=='M') & (banco['Flag']=='Attrited Customer') & (banco['Tipo de cartão']=='Blue')].count()\n",
        "print(f'Quantidade de clientes do sexo masculino que cancelara o cartão tipo blue : {round(quantClienteMaleAttritedTypecardBlue, 2)}')\n",
        "\n",
        "banco['cliente_ID'].loc[banco['Tipo de cartão'] == 'Blue'].loc[banco['Flag'] == 'Attrited Customer'].groupby(banco['Sexo']).count().plot(kind = 'bar')"
      ],
      "metadata": {
        "id": "e_1WylO7wuR7"
      },
      "execution_count": null,
      "outputs": []
    },
    {
      "cell_type": "markdown",
      "source": [
        "# 18 - Quantos clientes que cancelaram o cartão, do sexo feminino, tinham cartão tipo Silver?\n",
        "\n",
        "# 19 - Quantos clientes que cancelaram o cartão, do sexo masculino, tinham cartão tipo Silver?"
      ],
      "metadata": {
        "id": "t1WLDXh8FS6L"
      }
    },
    {
      "cell_type": "code",
      "source": [
        "quantClienteMaleAttSilver = banco['cliente_ID'].loc[(banco['Sexo']=='M') & (banco['Flag']=='Attrited Customer') & (banco['Tipo de cartão']=='Silver')].count()\n",
        "print(f'Quantidade de clientes do sexo masculino que tinham o cartão tipo Silver : {round(quantClienteMaleAttSilver, 2)}')\n",
        "\n",
        "quantClienteFemaleAttSilver = banco['cliente_ID'].loc[(banco['Sexo']=='F') & (banco['Flag']=='Attrited Customer') & (banco['Tipo de cartão']=='Silver')].count()\n",
        "print(f'Quantidade de clientes do sexo masculino que tinham o cartão tipo Silver : {round(quantClienteFemaleAttSilver, 2)}')\n",
        "\n",
        "banco['cliente_ID'].loc[banco['Tipo de cartão'] == 'Silver'].loc[banco['Flag'] == 'Attrited Customer'].groupby (banco['Sexo']).count().plot(kind = 'bar')"
      ],
      "metadata": {
        "id": "_f6BF2OMAEjy"
      },
      "execution_count": null,
      "outputs": []
    },
    {
      "cell_type": "markdown",
      "source": [
        "20 Qual a média de tempo de relacionamento, em meses, com o banco dos clientes do sexo feminino que cancelaram o cartão?\n",
        "\n",
        "21 Qual a média de tempo de relacionamento, em meses, com o banco dos clientes do sexo masmculino que cancelaram o cartão?"
      ],
      "metadata": {
        "id": "7ww5N7d7_IVQ"
      }
    },
    {
      "cell_type": "code",
      "source": [
        "#NÃO EXECUTAR ATÉ AJUSTAR O NOME DA TABELA 'RELACIONAMENTO'\n",
        "\n",
        "quantClienteMaleAttSilver = banco['cliente_ID'].loc[(banco['Sexo']=='M') & (banco['Flag']=='Attrited Customer') & (banco['relacionamento']=='meses')].count()\n",
        "print(f'Quantidade de clientes do sexo masculino que tinham o cartão tipo Silver : {round(quantClienteMaleAttSilver, 2)}')\n",
        "\n",
        "quantClienteFemaleAttSilver = banco['cliente_ID'].loc[(banco['Sexo']=='F') & (banco['Flag']=='Attrited Customer') & (banco['relacionamento']=='meses')].count()\n",
        "print(f'Quantidade de clientes do sexo masculino que tinham o cartão tipo Silver : {round(quantClienteFemaleAttSilver, 2)}')\n",
        "\n",
        "banco['cliente_ID'].loc[banco['relacionamento'] == 'meses'].loc[banco['Flag'] == 'Attrited Customer'].groupby (banco['Sexo']).count().plot(kind = 'bar')\n"
      ],
      "metadata": {
        "id": "x4LR-6rd_Jbi"
      },
      "execution_count": null,
      "outputs": []
    },
    {
      "cell_type": "markdown",
      "source": [
        "22 Qual é o limite médio do cartão dos clientes do sexo feminino que cancelaram seus cartões?\n",
        "\n",
        "23 Qual é o limite médio do cartão dos clientes do sexo masculino que cancelaram seus cartões?"
      ],
      "metadata": {
        "id": "Bj140kjG_yEG"
      }
    },
    {
      "cell_type": "code",
      "source": [
        "mediaClienteMaleAttLimit = banco['Credit_Limit'].loc[(banco['Sexo']=='M') & (banco['Flag']=='Attrited Customer')].mean()\n",
        "print(f'Quantidade de clientes do sexo masculino que tinham o cartão tipo Silver : {round(mediaClienteMaleAttLimit, 2)}')\n",
        "\n",
        "mediaClienteMaleAttLimit = banco['Credit_Limit'].loc[(banco['Sexo']=='F') & (banco['Flag']=='Attrited Customer')].mean()\n",
        "print(f'Quantidade de clientes do sexo feminino que tinham o cartão tipo Silver : {round(mediaClienteMaleAttLimit, 2)}')\n",
        "\n",
        "banco['Credit_Limit'].loc[banco['Flag'] == 'Attrited Customer'].groupby (banco['Sexo']).mean().plot(kind = 'bar')"
      ],
      "metadata": {
        "id": "s0Kf6I11_y3x"
      },
      "execution_count": null,
      "outputs": []
    },
    {
      "cell_type": "code",
      "source": [
        "banco"
      ],
      "metadata": {
        "colab": {
          "base_uri": "https://localhost:8080/",
          "height": 424
        },
        "id": "s5dC33PpDWHQ",
        "outputId": "f56f3210-cb95-4bf1-e39d-aac8b350c494"
      },
      "execution_count": null,
      "outputs": [
        {
          "output_type": "execute_result",
          "data": {
            "text/plain": [
              "       cliente_ID               Flag  Idade Sexo  Número dep. Escolaridade  \\\n",
              "0       768805383  Existing Customer     45    M            3  High School   \n",
              "1       818770008  Existing Customer     49    F            5     Graduate   \n",
              "2       713982108  Existing Customer     51    M            3     Graduate   \n",
              "3       769911858  Existing Customer     40    F            4  High School   \n",
              "4       709106358  Existing Customer     40    M            3   Uneducated   \n",
              "...           ...                ...    ...  ...          ...          ...   \n",
              "10122   772366833  Existing Customer     50    M            2     Graduate   \n",
              "10123   710638233  Attrited Customer     41    M            2      Unknown   \n",
              "10124   716506083  Attrited Customer     44    F            1  High School   \n",
              "10125   717406983  Attrited Customer     30    M            2     Graduate   \n",
              "10126   714337233  Attrited Customer     43    F            2     Graduate   \n",
              "\n",
              "      Estado civil Intervalo de renda Tipo de cartão  Credit_Limit  \n",
              "0          Married        $60K - $80K           Blue       12691.0  \n",
              "1           Single     Less than $40K           Blue        8256.0  \n",
              "2          Married       $80K - $120K           Blue        3418.0  \n",
              "3          Unknown     Less than $40K           Blue        3313.0  \n",
              "4          Married        $60K - $80K           Blue        4716.0  \n",
              "...            ...                ...            ...           ...  \n",
              "10122       Single        $40K - $60K           Blue        4003.0  \n",
              "10123     Divorced        $40K - $60K           Blue        4277.0  \n",
              "10124      Married     Less than $40K           Blue        5409.0  \n",
              "10125      Unknown        $40K - $60K           Blue        5281.0  \n",
              "10126      Married     Less than $40K         Silver       10388.0  \n",
              "\n",
              "[10127 rows x 10 columns]"
            ],
            "text/html": [
              "\n",
              "  <div id=\"df-bac03ebd-164f-48c3-a8cf-0d0032bf18db\">\n",
              "    <div class=\"colab-df-container\">\n",
              "      <div>\n",
              "<style scoped>\n",
              "    .dataframe tbody tr th:only-of-type {\n",
              "        vertical-align: middle;\n",
              "    }\n",
              "\n",
              "    .dataframe tbody tr th {\n",
              "        vertical-align: top;\n",
              "    }\n",
              "\n",
              "    .dataframe thead th {\n",
              "        text-align: right;\n",
              "    }\n",
              "</style>\n",
              "<table border=\"1\" class=\"dataframe\">\n",
              "  <thead>\n",
              "    <tr style=\"text-align: right;\">\n",
              "      <th></th>\n",
              "      <th>cliente_ID</th>\n",
              "      <th>Flag</th>\n",
              "      <th>Idade</th>\n",
              "      <th>Sexo</th>\n",
              "      <th>Número dep.</th>\n",
              "      <th>Escolaridade</th>\n",
              "      <th>Estado civil</th>\n",
              "      <th>Intervalo de renda</th>\n",
              "      <th>Tipo de cartão</th>\n",
              "      <th>Credit_Limit</th>\n",
              "    </tr>\n",
              "  </thead>\n",
              "  <tbody>\n",
              "    <tr>\n",
              "      <th>0</th>\n",
              "      <td>768805383</td>\n",
              "      <td>Existing Customer</td>\n",
              "      <td>45</td>\n",
              "      <td>M</td>\n",
              "      <td>3</td>\n",
              "      <td>High School</td>\n",
              "      <td>Married</td>\n",
              "      <td>$60K - $80K</td>\n",
              "      <td>Blue</td>\n",
              "      <td>12691.0</td>\n",
              "    </tr>\n",
              "    <tr>\n",
              "      <th>1</th>\n",
              "      <td>818770008</td>\n",
              "      <td>Existing Customer</td>\n",
              "      <td>49</td>\n",
              "      <td>F</td>\n",
              "      <td>5</td>\n",
              "      <td>Graduate</td>\n",
              "      <td>Single</td>\n",
              "      <td>Less than $40K</td>\n",
              "      <td>Blue</td>\n",
              "      <td>8256.0</td>\n",
              "    </tr>\n",
              "    <tr>\n",
              "      <th>2</th>\n",
              "      <td>713982108</td>\n",
              "      <td>Existing Customer</td>\n",
              "      <td>51</td>\n",
              "      <td>M</td>\n",
              "      <td>3</td>\n",
              "      <td>Graduate</td>\n",
              "      <td>Married</td>\n",
              "      <td>$80K - $120K</td>\n",
              "      <td>Blue</td>\n",
              "      <td>3418.0</td>\n",
              "    </tr>\n",
              "    <tr>\n",
              "      <th>3</th>\n",
              "      <td>769911858</td>\n",
              "      <td>Existing Customer</td>\n",
              "      <td>40</td>\n",
              "      <td>F</td>\n",
              "      <td>4</td>\n",
              "      <td>High School</td>\n",
              "      <td>Unknown</td>\n",
              "      <td>Less than $40K</td>\n",
              "      <td>Blue</td>\n",
              "      <td>3313.0</td>\n",
              "    </tr>\n",
              "    <tr>\n",
              "      <th>4</th>\n",
              "      <td>709106358</td>\n",
              "      <td>Existing Customer</td>\n",
              "      <td>40</td>\n",
              "      <td>M</td>\n",
              "      <td>3</td>\n",
              "      <td>Uneducated</td>\n",
              "      <td>Married</td>\n",
              "      <td>$60K - $80K</td>\n",
              "      <td>Blue</td>\n",
              "      <td>4716.0</td>\n",
              "    </tr>\n",
              "    <tr>\n",
              "      <th>...</th>\n",
              "      <td>...</td>\n",
              "      <td>...</td>\n",
              "      <td>...</td>\n",
              "      <td>...</td>\n",
              "      <td>...</td>\n",
              "      <td>...</td>\n",
              "      <td>...</td>\n",
              "      <td>...</td>\n",
              "      <td>...</td>\n",
              "      <td>...</td>\n",
              "    </tr>\n",
              "    <tr>\n",
              "      <th>10122</th>\n",
              "      <td>772366833</td>\n",
              "      <td>Existing Customer</td>\n",
              "      <td>50</td>\n",
              "      <td>M</td>\n",
              "      <td>2</td>\n",
              "      <td>Graduate</td>\n",
              "      <td>Single</td>\n",
              "      <td>$40K - $60K</td>\n",
              "      <td>Blue</td>\n",
              "      <td>4003.0</td>\n",
              "    </tr>\n",
              "    <tr>\n",
              "      <th>10123</th>\n",
              "      <td>710638233</td>\n",
              "      <td>Attrited Customer</td>\n",
              "      <td>41</td>\n",
              "      <td>M</td>\n",
              "      <td>2</td>\n",
              "      <td>Unknown</td>\n",
              "      <td>Divorced</td>\n",
              "      <td>$40K - $60K</td>\n",
              "      <td>Blue</td>\n",
              "      <td>4277.0</td>\n",
              "    </tr>\n",
              "    <tr>\n",
              "      <th>10124</th>\n",
              "      <td>716506083</td>\n",
              "      <td>Attrited Customer</td>\n",
              "      <td>44</td>\n",
              "      <td>F</td>\n",
              "      <td>1</td>\n",
              "      <td>High School</td>\n",
              "      <td>Married</td>\n",
              "      <td>Less than $40K</td>\n",
              "      <td>Blue</td>\n",
              "      <td>5409.0</td>\n",
              "    </tr>\n",
              "    <tr>\n",
              "      <th>10125</th>\n",
              "      <td>717406983</td>\n",
              "      <td>Attrited Customer</td>\n",
              "      <td>30</td>\n",
              "      <td>M</td>\n",
              "      <td>2</td>\n",
              "      <td>Graduate</td>\n",
              "      <td>Unknown</td>\n",
              "      <td>$40K - $60K</td>\n",
              "      <td>Blue</td>\n",
              "      <td>5281.0</td>\n",
              "    </tr>\n",
              "    <tr>\n",
              "      <th>10126</th>\n",
              "      <td>714337233</td>\n",
              "      <td>Attrited Customer</td>\n",
              "      <td>43</td>\n",
              "      <td>F</td>\n",
              "      <td>2</td>\n",
              "      <td>Graduate</td>\n",
              "      <td>Married</td>\n",
              "      <td>Less than $40K</td>\n",
              "      <td>Silver</td>\n",
              "      <td>10388.0</td>\n",
              "    </tr>\n",
              "  </tbody>\n",
              "</table>\n",
              "<p>10127 rows × 10 columns</p>\n",
              "</div>\n",
              "      <button class=\"colab-df-convert\" onclick=\"convertToInteractive('df-bac03ebd-164f-48c3-a8cf-0d0032bf18db')\"\n",
              "              title=\"Convert this dataframe to an interactive table.\"\n",
              "              style=\"display:none;\">\n",
              "        \n",
              "  <svg xmlns=\"http://www.w3.org/2000/svg\" height=\"24px\"viewBox=\"0 0 24 24\"\n",
              "       width=\"24px\">\n",
              "    <path d=\"M0 0h24v24H0V0z\" fill=\"none\"/>\n",
              "    <path d=\"M18.56 5.44l.94 2.06.94-2.06 2.06-.94-2.06-.94-.94-2.06-.94 2.06-2.06.94zm-11 1L8.5 8.5l.94-2.06 2.06-.94-2.06-.94L8.5 2.5l-.94 2.06-2.06.94zm10 10l.94 2.06.94-2.06 2.06-.94-2.06-.94-.94-2.06-.94 2.06-2.06.94z\"/><path d=\"M17.41 7.96l-1.37-1.37c-.4-.4-.92-.59-1.43-.59-.52 0-1.04.2-1.43.59L10.3 9.45l-7.72 7.72c-.78.78-.78 2.05 0 2.83L4 21.41c.39.39.9.59 1.41.59.51 0 1.02-.2 1.41-.59l7.78-7.78 2.81-2.81c.8-.78.8-2.07 0-2.86zM5.41 20L4 18.59l7.72-7.72 1.47 1.35L5.41 20z\"/>\n",
              "  </svg>\n",
              "      </button>\n",
              "      \n",
              "  <style>\n",
              "    .colab-df-container {\n",
              "      display:flex;\n",
              "      flex-wrap:wrap;\n",
              "      gap: 12px;\n",
              "    }\n",
              "\n",
              "    .colab-df-convert {\n",
              "      background-color: #E8F0FE;\n",
              "      border: none;\n",
              "      border-radius: 50%;\n",
              "      cursor: pointer;\n",
              "      display: none;\n",
              "      fill: #1967D2;\n",
              "      height: 32px;\n",
              "      padding: 0 0 0 0;\n",
              "      width: 32px;\n",
              "    }\n",
              "\n",
              "    .colab-df-convert:hover {\n",
              "      background-color: #E2EBFA;\n",
              "      box-shadow: 0px 1px 2px rgba(60, 64, 67, 0.3), 0px 1px 3px 1px rgba(60, 64, 67, 0.15);\n",
              "      fill: #174EA6;\n",
              "    }\n",
              "\n",
              "    [theme=dark] .colab-df-convert {\n",
              "      background-color: #3B4455;\n",
              "      fill: #D2E3FC;\n",
              "    }\n",
              "\n",
              "    [theme=dark] .colab-df-convert:hover {\n",
              "      background-color: #434B5C;\n",
              "      box-shadow: 0px 1px 3px 1px rgba(0, 0, 0, 0.15);\n",
              "      filter: drop-shadow(0px 1px 2px rgba(0, 0, 0, 0.3));\n",
              "      fill: #FFFFFF;\n",
              "    }\n",
              "  </style>\n",
              "\n",
              "      <script>\n",
              "        const buttonEl =\n",
              "          document.querySelector('#df-bac03ebd-164f-48c3-a8cf-0d0032bf18db button.colab-df-convert');\n",
              "        buttonEl.style.display =\n",
              "          google.colab.kernel.accessAllowed ? 'block' : 'none';\n",
              "\n",
              "        async function convertToInteractive(key) {\n",
              "          const element = document.querySelector('#df-bac03ebd-164f-48c3-a8cf-0d0032bf18db');\n",
              "          const dataTable =\n",
              "            await google.colab.kernel.invokeFunction('convertToInteractive',\n",
              "                                                     [key], {});\n",
              "          if (!dataTable) return;\n",
              "\n",
              "          const docLinkHtml = 'Like what you see? Visit the ' +\n",
              "            '<a target=\"_blank\" href=https://colab.research.google.com/notebooks/data_table.ipynb>data table notebook</a>'\n",
              "            + ' to learn more about interactive tables.';\n",
              "          element.innerHTML = '';\n",
              "          dataTable['output_type'] = 'display_data';\n",
              "          await google.colab.output.renderOutput(dataTable, element);\n",
              "          const docLink = document.createElement('div');\n",
              "          docLink.innerHTML = docLinkHtml;\n",
              "          element.appendChild(docLink);\n",
              "        }\n",
              "      </script>\n",
              "    </div>\n",
              "  </div>\n",
              "  "
            ]
          },
          "metadata": {},
          "execution_count": 58
        }
      ]
    },
    {
      "cell_type": "markdown",
      "source": [
        "1 Quantos clientes cancelaram o cartão de crédito?\n",
        "\n",
        "2 Quantos clientes do sexo masculino cancelaram o cartão de crédito?\n",
        "\n",
        "3 Quantos clientes do sexo feminino cancelaram o cartão de crédito?\n",
        "\n",
        "4 Qual a média de idade dos clientes do sexo feminino que cancelaram o cartão?\n",
        "\n",
        "5 Qual a média de idade dos clientes do sexo feminino que cancelaram o cartão?\n",
        "\n",
        "6 Quantos clientes do sexo feminino têm 3 dependentes?\n",
        "\n",
        "7 Quantos clientes do masculino têm 3 dependentes?\n",
        "\n",
        "8 Quantos clientes do sexo feminino que cancelaram o cartão de crédito tem graduação?\n",
        "\n",
        "9 Quantos clientes do sexo masculino que cancelaram o cartão de crédito têm graduação?\n",
        "\n",
        "10 Quantos clientes do sexo feminino que cancelaram o cartão de crédito são casados?\n",
        "\n",
        "11 Quantos clientes do sexo feminino que cancelaram o cartão de crédito são solteiros?\n",
        "\n",
        "12 Quantos clientes do sexo feminino que cancelaram o cartão de crédito são divorciados?\n",
        "\n",
        "13 Quantos clientes do sexo feminino que cancelaram o cartão de crédito são casados?\n",
        "\n",
        "14 Quantos clientes do sexo masculino que cancelaram o cartão de crédito são solteiros?\n",
        "\n",
        "15 Quantos clientes do sexo masculino que cancelaram o cartão de crédito são divorciados?\n",
        "\n",
        "16 Quantos clientes do sexo masculino que cancelaram o cartão de crédito tinham cartão tipo blue?\n",
        "\n",
        "17 Quantos clientes do sexo feminino que cancelaram o cartão d ecrédito tinham cartão tipo blue?\n",
        "\n",
        "18 Quantos clientes do sexo masculino que cancelaram o cartão de crédito tinham cartão tipo blue?\n",
        "\n",
        "19 Quantos clientes do sexo feminino que cancelaram o cartão de crédito tinham cartão tipo Silver?\n",
        "\n",
        "20 Qual a média de tempo de relacionamento, em meses, com o banco dos clientes do sexo feminino que cancelaram o cartão?\n",
        "\n",
        "21 Qual a média de tempo de relacionamento, em meses, com o banco dos clientes do sexo masmculino que cancelaram o cartão?\n",
        "\n",
        "22 Qual é o limite médio do cartão dos clientes do sexo feminino que cancelaram seus cartões?\n",
        "\n",
        "23 Qual é o limite médio do cartão dos clientes do sexo masculino que cancelaram seus cartões?\n",
        "\n",
        "24 Plote o gráfico para cada situação envolvendo clientes do sexo masulino e feminino\n",
        "\n"
      ],
      "metadata": {
        "id": "N2xrjTM1Vi_n"
      }
    }
  ]
}