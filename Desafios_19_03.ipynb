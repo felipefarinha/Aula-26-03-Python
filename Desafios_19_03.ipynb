{
  "nbformat": 4,
  "nbformat_minor": 0,
  "metadata": {
    "colab": {
      "name": "Desafios 19/03.ipynb",
      "provenance": [],
      "authorship_tag": "ABX9TyOMITtCMH866BHAEsZpkJ3B",
      "include_colab_link": true
    },
    "kernelspec": {
      "name": "python3",
      "display_name": "Python 3"
    },
    "language_info": {
      "name": "python"
    }
  },
  "cells": [
    {
      "cell_type": "markdown",
      "metadata": {
        "id": "view-in-github",
        "colab_type": "text"
      },
      "source": [
        "<a href=\"https://colab.research.google.com/github/felipefarinha/Aula-26-03-Python/blob/Aula-19-03-Python/Desafios_19_03.ipynb\" target=\"_parent\"><img src=\"https://colab.research.google.com/assets/colab-badge.svg\" alt=\"Open In Colab\"/></a>"
      ]
    },
    {
      "cell_type": "markdown",
      "source": [
        "Nome: **Felipe Farinha Da Costa**\n",
        "\n",
        "Matrícula: **202002250755**"
      ],
      "metadata": {
        "id": "EoLtXspifxRW"
      }
    },
    {
      "cell_type": "markdown",
      "source": [
        "# Volume, raio, esfera\n",
        "### Lib math pegar PI"
      ],
      "metadata": {
        "id": "kL0pD4aa_GJY"
      }
    },
    {
      "cell_type": "code",
      "source": [
        "# from math import * ##importa tudo\n",
        "import math\n",
        "pi = math.pi\n",
        "\n",
        "retorno = []\n",
        "\n",
        "def CalculaVolume ():\n",
        "  print('Funcão para saber se a esfera cabe no cilindro basendo no volume')\n",
        "  Valor_raio = float(input(f'Insira o valor do RAIO: '))\n",
        "  Valor_esfera = float(input(f'Insira o valor da esfera: '))\n",
        "\n",
        "  if Valor_raio <= 0 or Valor_esfera <= 0:\n",
        "    print(f'Erro! Favor inserir valores maiores que zero')\n",
        "\n",
        "  else:\n",
        "    volume = (2*pi) * Valor_raio**3\n",
        "    vol_esfera = (4/3) * pi * Valor_esfera**3\n",
        "\n",
        "    if Valor_esfera <= Valor_raio:\n",
        "      print('Cabe!')\n",
        "      retorno.append('Cabe!')\n",
        "    else:\n",
        "      print('Não cabe!')\n",
        "      retorno.append('Não Cabe!')\n",
        "  \n",
        "  # return retorno\n",
        "\n",
        "CalculaVolume()"
      ],
      "metadata": {
        "id": "uzwhrBu8mNSU",
        "colab": {
          "base_uri": "https://localhost:8080/"
        },
        "outputId": "dc6c091e-3cad-4027-8c19-a2895d597f5a"
      },
      "execution_count": null,
      "outputs": [
        {
          "output_type": "stream",
          "name": "stdout",
          "text": [
            "Funcão para saber se a esfera cabe no cilindro basendo no volume\n",
            "Insira o valor do RAIO: 4\n",
            "Insira o valor da esfera: 6\n",
            "Não cabe!\n"
          ]
        }
      ]
    },
    {
      "cell_type": "markdown",
      "source": [
        "# Pedra, papel e tesoura"
      ],
      "metadata": {
        "id": "UOuw19X-IQXP"
      }
    },
    {
      "cell_type": "code",
      "source": [
        "# import random\n",
        "from time import sleep\n",
        "\n",
        "print(f'Dois Jogadores escolhem:')\n",
        "# print(f'[1] Pedra \\n[2] Papel \\n[3] Tesoura \\n')\n",
        "print(f'[1] Pedra [2] Papel [3] Tesoura \\n')\n",
        "\n",
        "jogador1 = int( input(f'Jogador 1: Insira o número da opção desejada: '))\n",
        "jogador2 = int( input(f'Jogador 2: Insira o número da opção desejada: '))\n",
        "\n",
        "print('\\nJO')\n",
        "sleep(1)\n",
        "print('KEN')\n",
        "sleep(1)\n",
        "print('PÔ!')\n",
        "sleep(1)\n",
        "\n",
        "if (1 <= jogador1 <= 3) and (1 <= jogador2 <= 3):\n",
        "\n",
        "  if (jogador1 == jogador2): \n",
        "    print(\"Empate! Ninguém ganhou.\" ) \n",
        "\n",
        "  elif (jogador1 - jogador2 == -2) or (jogador1 - jogador2 == 1):\n",
        "    print(\"Jogador 1 ganhou.\" ) \n",
        "\n",
        "else: print(\"Opção inválida.\" )\n"
      ],
      "metadata": {
        "colab": {
          "base_uri": "https://localhost:8080/"
        },
        "id": "4AudYrfwF-KY",
        "outputId": "201e657a-15bd-429e-b026-ba90ce6a4ad7"
      },
      "execution_count": null,
      "outputs": [
        {
          "output_type": "stream",
          "name": "stdout",
          "text": [
            "Dois Jogadores escolhem:\n",
            "[1] Pedra [2] Papel [3] Tesoura \n",
            "\n",
            "Jogador 1: Insira o número da opção desejada: 2\n",
            "Jogador 2: Insira o número da opção desejada: 1\n",
            "\n",
            "JO\n",
            "KEN\n",
            "PÔ!\n",
            "Jogador 1 ganhou.\n"
          ]
        }
      ]
    }
  ]
}