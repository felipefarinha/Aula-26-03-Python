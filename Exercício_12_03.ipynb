{
  "nbformat": 4,
  "nbformat_minor": 0,
  "metadata": {
    "colab": {
      "name": "Exercício 12/03.ipynb",
      "provenance": [],
      "authorship_tag": "ABX9TyOGz/whGFCJDx+q5HnSk1Fp",
      "include_colab_link": true
    },
    "kernelspec": {
      "name": "python3",
      "display_name": "Python 3"
    },
    "language_info": {
      "name": "python"
    }
  },
  "cells": [
    {
      "cell_type": "markdown",
      "metadata": {
        "id": "view-in-github",
        "colab_type": "text"
      },
      "source": [
        "<a href=\"https://colab.research.google.com/github/felipefarinha/Python-Estacio/blob/main/Exerc%C3%ADcio_12_03.ipynb\" target=\"_parent\"><img src=\"https://colab.research.google.com/assets/colab-badge.svg\" alt=\"Open In Colab\"/></a>"
      ]
    },
    {
      "cell_type": "markdown",
      "source": [
        "Nome: **Felipe Farinha da Costa**\n",
        "\n",
        "Matrícula: **202002250755**"
      ],
      "metadata": {
        "id": "Q6Ke5xfDZxbA"
      }
    },
    {
      "cell_type": "markdown",
      "source": [
        "# **Exercício** 1\n",
        "### O escritório de contabilidade Super Contábil está realizando o reajuste do salário dosfuncionários de todos os  seus  clientes.  Para  isso,  estão  utilizando  como  referência  o reajuste  acordado  comos  sindicatos  de  cada  classe trabalhadora, conforme apresentadona tabela a seguir. Para ajudar o escritório nesta tarefa, faça um programa em phyton que receba o salário atual, o cargo conforme especificado na tabela a seguir, e realize o cálculo do reajuste do salário. Ao término do cálculo o programa deve imprimir o valordo reajuste e o novo salário do funcionário."
      ],
      "metadata": {
        "id": "CEn3FwbFItV0"
      }
    },
    {
      "cell_type": "code",
      "source": [
        "# receba o salário atual, o cargo conforme especificado na tabela a seguir e realize o cálculo do reajuste do salário.\n",
        "data = [\n",
        "          {'Cargo' : 'Sair'},\n",
        "          {'id': 1, 'Cargo' : 'Auxiliar de escritório', 'reajuste': 7/100},\n",
        "          {'id': 2, 'Cargo' : 'Secretário(a)', 'reajuste': 9/100},\n",
        "          {'id': 3, 'Cargo' : 'Cozinheiro(a) ', 'reajuste': 5/100},\n",
        "          {'id': 4, 'Cargo' : 'Entregador(a)', 'reajuste': 12/100}\n",
        "        ]\n",
        "hr = (len(data)*2) * '-'\n",
        "\n",
        "def reajuste():\n",
        "  salario_atual = float(input('Salário atual? '))\n",
        "  # round(salario_atual, 3)\n",
        "  salario_ajustado = salario_atual + (salario_atual * data[opcao][\"reajuste\"])\n",
        "  reajuste_em_int = int((data[opcao][\"reajuste\"])*100)\n",
        "  print(f'Salário atualizado em {reajuste_em_int}% ficando: {salario_ajustado}0 reais.') #gambiarra kk\n",
        "  print(hr)\n",
        "\n",
        "contador = 0\n",
        "while True:\n",
        "  for i in range(len(data)):\n",
        "    print(f'[{contador}] - {data[contador][\"Cargo\"]}')\n",
        "    contador += 1\n",
        "\n",
        "  print(hr)\n",
        "  opcao = int(input('Escolha uma opção: '))\n",
        "  if opcao > 0 and opcao < len(data) :\n",
        "    print(f'Sua escolha foi: {data[opcao][\"Cargo\"]}, Opção: {opcao}')\n",
        "    print(hr)\n",
        "    reajuste()\n",
        "    contador = 0\n",
        "\n",
        "  elif opcao == 0 :\n",
        "    print(f'{data[opcao][\"Cargo\"]}')\n",
        "    break\n",
        "  else:\n",
        "    print(\"Observe as opções direito ANIMAL!!!\\n\")\n",
        "    contador = 0\n",
        "    continue\n",
        "\n",
        "contador = 1\n",
        "\n",
        "# i = 0\n",
        "# while(i < len(data)-1):\n",
        "#   print(f' {data[i+1][\"Cargo\"]} ')\n",
        "#   i += 1\n",
        "\n",
        "# for i in range(len(data)-1):\n",
        "#   print(f' {data[i+1][\"Cargo\"]} ')"
      ],
      "metadata": {
        "colab": {
          "base_uri": "https://localhost:8080/"
        },
        "id": "6iwvzTLBIvFM",
        "outputId": "13cfe33b-c42d-43ae-d47f-d58c5e0d66aa"
      },
      "execution_count": null,
      "outputs": [
        {
          "output_type": "stream",
          "name": "stdout",
          "text": [
            "[0] - Sair\n",
            "[1] - Auxiliar de escritório\n",
            "[2] - Secretário(a)\n",
            "[3] - Cozinheiro(a) \n",
            "[4] - Entregador(a)\n",
            "----------\n",
            "Escolha uma opção: 1\n",
            "Sua escolha foi: Auxiliar de escritório, Opção: 1\n",
            "----------\n",
            "Salário atual? 1500\n",
            "Salário atualizado em 7% ficando: 1605.00 reais.\n",
            "----------\n",
            "[0] - Sair\n",
            "[1] - Auxiliar de escritório\n",
            "[2] - Secretário(a)\n",
            "[3] - Cozinheiro(a) \n",
            "[4] - Entregador(a)\n",
            "----------\n",
            "Escolha uma opção: 0\n",
            "Sair\n"
          ]
        }
      ]
    },
    {
      "cell_type": "markdown",
      "source": [
        "# Exercício 2\n",
        "### Faça um programa em phyton que leia o destino do passageiro, e verifique se a viagem inclui retorno (ida e volta) e informe o preço da passagem conforme a tabela a seguir:"
      ],
      "metadata": {
        "id": "-whEMM4AEoe2"
      }
    },
    {
      "cell_type": "code",
      "source": [
        "# from typing import Counter\n",
        "# leia o destino, verifique se a viagem inclui retorno e informe o preço da passagem\n",
        "\n",
        "data = [\n",
        "          {'id': 1, 'Cod_destino' : 'Região norte', 'Ida': 500.00, 'Ida e volta': 900.00},\n",
        "          {'id': 2, 'Cod_destino' : 'Região nordeste', 'Ida': 350.00, 'Ida e volta': 650.00},\n",
        "          {'id': 3, 'Cod_destino' : 'Região centro-oeste', 'Ida': 350.00, 'Ida e volta': 600.00},\n",
        "          {'id': 4, 'Cod_destino' : 'Região sul', 'Ida': 300.00, 'Ida e volta': 550.00}\n",
        "        ]\n",
        "\n",
        "while True:\n",
        "  destino = int(input('Escolha o destino: \\n[1] - Região norte \\n[2] - Região nordeste \\n[3] - Região centro-oeste \\n[4] - Região sul \\n---------------\\n'))\n",
        "  if destino == 0 or destino >= 5:\n",
        "    continue\n",
        "  else: break\n",
        "\n",
        "count = 0\n",
        "for i in data:\n",
        "  if data[count][\"id\"] == destino:\n",
        "    # print('oi')\n",
        "    print(f'>> {data[count][\"Cod_destino\"]} por {data[count][\"Ida\"]} reais e possue ida e volta por {data[count][\"Ida e volta\"]}')\n",
        "  count += 1"
      ],
      "metadata": {
        "colab": {
          "base_uri": "https://localhost:8080/"
        },
        "id": "Wz0qmqAXxkm0",
        "outputId": "61d2d22e-80e7-4a1f-9332-4d293d99dfda"
      },
      "execution_count": null,
      "outputs": [
        {
          "output_type": "stream",
          "name": "stdout",
          "text": [
            "Escolha o destino: \n",
            "[1] - Região norte \n",
            "[2] - Região nordeste \n",
            "[3] - Região centro-oeste \n",
            "[4] - Região sul \n",
            "---------------\n",
            "1\n",
            ">> Região norte por 500.0 reais e possue ida e volta por 900.0\n"
          ]
        }
      ]
    },
    {
      "cell_type": "markdown",
      "source": [
        "# Exercício 3\n",
        "### Segundo uma tabela médica, o peso ideal está relacionado com a altura e o sexo. Faça um programa em Python que receba a altura e o sexo de uma pessoa, após isso, calcule e imprima o seu peso ideal, utilizando as seguintes fórmulas:\n",
        "\n",
        "```\n",
        "• Para homens: (72,7 * A) –58\n",
        "```\n",
        "```\n",
        "• Para mulheres: (62,1 * A) –44,7\n",
        "```\n",
        "```\n",
        "• Em que: A = Altura\n",
        "```"
      ],
      "metadata": {
        "id": "Udi-Bd1ykUqk"
      }
    },
    {
      "cell_type": "code",
      "source": [
        "hr = 25 * '='\n",
        "\n",
        "print(f'Programa Peso Ideal\\n\\n\\n')\n",
        "\n",
        "def peso_ideal():\n",
        "  sexo = str(input(print(f'Informe o sexo desejado: \"Masculino (M)\" ou \"Feminino (F)\" ')))\n",
        "  \n",
        "  if sexo == 'm':\n",
        "    altura = float(input(f'Digita sua altura: '))\n",
        "    homem = (72.7 * altura) - 58\n",
        "    print(f'{hr}\\nSeu peso ideal é: {round(homem, 2)}kg\\n{hr}')\n",
        "\n",
        "  elif sexo == 'f':\n",
        "    altura = float(input(f'Digita sua altura: '))\n",
        "    mulher = (62.1 * altura) -float(44.7)\n",
        "    print(f'{hr}\\nSeu peso ideal é: {round(mulher, 2)}kg\\n{hr}')\n",
        "\n",
        "  else: \n",
        "    print(f'Escolha entre \"Masculino\" e \"Feminino\" digitando corretamente...\\n\\n')\n",
        "    peso_ideal()\n",
        "\n",
        "peso_ideal()"
      ],
      "metadata": {
        "colab": {
          "base_uri": "https://localhost:8080/"
        },
        "id": "Dm4Gxy4-fIwu",
        "outputId": "b7667186-09f4-49aa-d28c-59e67f7c91ad"
      },
      "execution_count": null,
      "outputs": [
        {
          "output_type": "stream",
          "name": "stdout",
          "text": [
            "Programa Peso Ideal\n",
            "\n",
            "\n",
            "\n",
            "Informe o sexo desejado: \"Masculino (M)\" ou \"Feminino (F)\" \n",
            "m\n",
            "Digita sua altura: 1.81\n",
            "=========================\n",
            "Seu peso ideal é: 73.59kg\n",
            "=========================\n"
          ]
        }
      ]
    }
  ]
}