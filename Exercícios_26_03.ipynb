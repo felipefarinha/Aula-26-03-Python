{
  "nbformat": 4,
  "nbformat_minor": 0,
  "metadata": {
    "colab": {
      "name": "Exercícios 26/03.ipynb",
      "provenance": [],
      "authorship_tag": "ABX9TyMMtRK0sj1KO1k0+wEOhPhb",
      "include_colab_link": true
    },
    "kernelspec": {
      "name": "python3",
      "display_name": "Python 3"
    },
    "language_info": {
      "name": "python"
    }
  },
  "cells": [
    {
      "cell_type": "markdown",
      "metadata": {
        "id": "view-in-github",
        "colab_type": "text"
      },
      "source": [
        "<a href=\"https://colab.research.google.com/github/felipefarinha/Aula-26-03-Python/blob/main/Exerc%C3%ADcios_26_03.ipynb\" target=\"_parent\"><img src=\"https://colab.research.google.com/assets/colab-badge.svg\" alt=\"Open In Colab\"/></a>"
      ]
    },
    {
      "cell_type": "markdown",
      "source": [
        "### Exercícios aula dia 26/03/2022\n",
        "\n",
        "# Nome: Felipe Farinha da Costa\n",
        "# Matrícula: 202002250755"
      ],
      "metadata": {
        "id": "j_AmYlEgezJG"
      }
    },
    {
      "cell_type": "code",
      "source": [
        "print('lista = [0, 1, 2, 3, 4, 5, 6, 7, 8, 9, 10, 11, 12, 13, 14, 15]')\n",
        "lista = [0, 1, 2, 3, 4, 5, 6, 7, 8, 9, 10, 11, 12, 13, 14, 15]\n",
        "\n",
        "# Intervalo de 1 a 9\n",
        "print('\\nIntervalo de 1 a 9')\n",
        "print(lista[1:10])\n",
        "\n",
        "# Intervalo de 8 a 13\n",
        "print('\\nIntervalo de 8 a 13')\n",
        "print(lista[8:14])\n",
        "\n",
        "# Números pares\n",
        "print('\\nNúmeros pares')\n",
        "par = [x*1 for x in lista if x%2 == 0]\n",
        "print(par)\n",
        "\n",
        "# Números ímpares\n",
        "print('\\nNúmeros ímpares')\n",
        "impar = [x*1 for x in lista if x%2 == 1]\n",
        "print(impar)\n",
        "\n",
        "# Todos os múltiplos de: 2, 3 e 4\n",
        "print('\\nTodos os múltiplos de: 2, 3 e 4')\n",
        "listaMultiplos = []\n",
        "for i, a in enumerate(lista):\n",
        "  if lista[i]%2 == 0 or lista[i]%3 == 0 or lista[i]%4 == 0:\n",
        "    listaMultiplos.append(i)\n",
        "\n",
        "print(listaMultiplos)\n",
        "\n",
        "print('\\nLista reversa')\n",
        "print(lista[::-1])\n",
        "\n",
        "# Razão entre: Soma do intervalo de 10 e 15 com o intervalo de 3 e 9, e colocar em float\n",
        "print('\\nRazão entre: Soma do intervalo de 10 e 15 com o intervalo de 3 e 9, e colocar em float') # *razão na matemática é a divisão\n",
        "\n",
        "lista_10_15 = []\n",
        "lista_3_9 = []\n",
        "\n",
        "for i in range(10, 16):\n",
        "  lista_10_15.append(i)\n",
        "\n",
        "for i in range(3, 10):\n",
        "  lista_3_9.append(i)\n",
        "\n",
        "print( round( (float(sum(lista_10_15))) / (float(sum(lista_3_9) ) ),2 ) ) "
      ],
      "metadata": {
        "id": "SYapimDsqer0",
        "colab": {
          "base_uri": "https://localhost:8080/"
        },
        "outputId": "64c8a36d-f8f0-4ace-f335-598a88105fdd"
      },
      "execution_count": null,
      "outputs": [
        {
          "output_type": "stream",
          "name": "stdout",
          "text": [
            "lista = [0, 1, 2, 3, 4, 5, 6, 7, 8, 9, 10, 11, 12, 13, 14, 15]\n",
            "\n",
            "Intervalo de 1 a 9\n",
            "[1, 2, 3, 4, 5, 6, 7, 8, 9]\n",
            "\n",
            "Intervalo de 8 a 13\n",
            "[8, 9, 10, 11, 12, 13]\n",
            "\n",
            "Números pares\n",
            "[0, 2, 4, 6, 8, 10, 12, 14]\n",
            "\n",
            "Números ímpares\n",
            "[1, 3, 5, 7, 9, 11, 13, 15]\n",
            "\n",
            "Todos os múltiplos de: 2, 3 e 4\n",
            "[0, 2, 3, 4, 6, 8, 9, 10, 12, 14, 15]\n",
            "\n",
            "Lista reversa\n",
            "[15, 14, 13, 12, 11, 10, 9, 8, 7, 6, 5, 4, 3, 2, 1, 0]\n",
            "\n",
            "Razão entre: Soma do intervalo de 10 e 15 com o intervalo de 3 e 9, e colocar em float\n",
            "1.79\n"
          ]
        }
      ]
    },
    {
      "cell_type": "code",
      "source": [
        "print('\\nLer 5 números em uma lista e mostrar cada número juntamente com sua posição na lista ')\n",
        "\n",
        "listinha = []\n",
        "\n",
        "for i in range(1, 6):\n",
        "  num = int(input(f'Digite o {i}ª número '))\n",
        "  listinha.append(num)\n",
        "\n",
        "for i, a in enumerate(listinha):\n",
        "  print(f'ìndice {i} com valor {listinha[i]}')"
      ],
      "metadata": {
        "colab": {
          "base_uri": "https://localhost:8080/"
        },
        "id": "RFYauhCf7cR4",
        "outputId": "7ea5cf88-7923-43b9-8213-62a1b9a75eaf"
      },
      "execution_count": null,
      "outputs": [
        {
          "output_type": "stream",
          "name": "stdout",
          "text": [
            "\n",
            "Ler 5 números em uma lista e mostrar cada número juntamente com sua posição na lista \n",
            "Digite o 1ª número 5\n",
            "Digite o 2ª número 4\n",
            "Digite o 3ª número 2\n",
            "Digite o 4ª número 6\n",
            "Digite o 5ª número 4\n",
            "ìndice: 0 com valor: 5\n",
            "ìndice: 1 com valor: 4\n",
            "ìndice: 2 com valor: 2\n",
            "ìndice: 3 com valor: 6\n",
            "ìndice: 4 com valor: 4\n"
          ]
        }
      ]
    },
    {
      "cell_type": "code",
      "source": [
        "print('\\nLer 10 números reais e monstrá-los na ordem inversa ')\n",
        "\n",
        "listinha = []\n",
        "\n",
        "for i in range(1, 11):\n",
        "  num = int(input(f'Digite o {i}ª número: '))\n",
        "  listinha.append(num)\n",
        "\n",
        "print(listinha[::-1])\n",
        "print(f'\\nInverso ordenado')\n",
        "print(sorted(listinha, reverse=True))\n"
      ],
      "metadata": {
        "colab": {
          "base_uri": "https://localhost:8080/"
        },
        "id": "C20i_fNnQLNF",
        "outputId": "56becef1-d25f-4a25-905e-646226462956"
      },
      "execution_count": null,
      "outputs": [
        {
          "output_type": "stream",
          "name": "stdout",
          "text": [
            "\n",
            "Ler 10 números reais e monstrá-los na ordem inversa \n",
            "Digite o 1ª número: 5\n",
            "Digite o 2ª número: 8\n",
            "Digite o 3ª número: 6\n",
            "Digite o 4ª número: 7\n",
            "Digite o 5ª número: 5\n",
            "[5, 7, 6, 8, 5]\n",
            "\n",
            "Inverso ordenado\n",
            "[8, 7, 6, 5, 5]\n"
          ]
        }
      ]
    },
    {
      "cell_type": "code",
      "source": [
        "print('\\nLer 4 notas, em seguida exibir as notas e a média ')\n",
        "\n",
        "import math\n",
        "\n",
        "nota = []\n",
        "\n",
        "for i in range(1, 5):\n",
        "  num = float(input(f'Digite a {i}ª nota: '))\n",
        "  nota.append(num)\n",
        "\n",
        "media = sum(nota) / len(nota)\n",
        "print(f'Notas: {nota} \\nMédia: {round(media,2)}')\n",
        "# print(f'Nota arredondada: {math.floor( (media) )}')\n"
      ],
      "metadata": {
        "colab": {
          "base_uri": "https://localhost:8080/"
        },
        "id": "fcI5dCIcS2hq",
        "outputId": "7a473fb9-1c6d-4e93-fd7c-6ec023426f76"
      },
      "execution_count": null,
      "outputs": [
        {
          "output_type": "stream",
          "name": "stdout",
          "text": [
            "\n",
            "Ler 4 notas, em seguida exibir as notas e a média \n",
            "Digite a 1ª nota: 5.987\n",
            "Digite a 2ª nota: 5.678\n",
            "Digite a 3ª nota: 5.345\n",
            "Digite a 4ª nota: 5.123\n",
            "Notas: [5.987, 5.678, 5.345, 5.123] \n",
            "Média: 5.53\n",
            "Nota arredondada: 5\n"
          ]
        }
      ]
    },
    {
      "cell_type": "code",
      "source": [
        "print('\\nLer 20 notas e exibir a maior e a menor. ')\n",
        "\n",
        "idade = []\n",
        "for i in range(1, 20):\n",
        "  num = int(input(f'Digite a {i}ª idade: '))\n",
        "  idade.append(num)\n",
        "\n",
        "idade.sort()\n",
        "print(f'Menor: {idade[0]} \\nMaior: {idade[-1]}')"
      ],
      "metadata": {
        "colab": {
          "base_uri": "https://localhost:8080/"
        },
        "id": "KxCLwfV8V_Vs",
        "outputId": "58e9b799-364a-470b-f602-a131306569e2"
      },
      "execution_count": null,
      "outputs": [
        {
          "output_type": "stream",
          "name": "stdout",
          "text": [
            "\n",
            "Ler 20 notas e exibir a maior e menor. \n",
            "Digite a 1ª idade: 2\n",
            "Digite a 2ª idade: 50\n",
            "Menor: 2 \n",
            "Maior: 50\n"
          ]
        }
      ]
    },
    {
      "cell_type": "code",
      "source": [
        "from time import sleep\n",
        "\n",
        "# lista = [1, 2, 3, 4, 5, 6, 7, 8, 9, 10]\n",
        "# lista.sort(reverse = True)\n",
        "lista = ['Chegou', 'a hora', 'do', 'intervalo xD']\n",
        "# print('Contagem regressiva')\n",
        "for i in lista:\n",
        "  sleep(1)\n",
        "  print(f'{i.center(50)} ')\n"
      ],
      "metadata": {
        "colab": {
          "base_uri": "https://localhost:8080/"
        },
        "id": "GQDVByUKepIc",
        "outputId": "5f7aba57-8163-44f9-dabd-2a04d761bd81"
      },
      "execution_count": null,
      "outputs": [
        {
          "output_type": "stream",
          "name": "stdout",
          "text": [
            "                      Chegou                       \n",
            "                      a hora                       \n",
            "                        do                         \n",
            "                   intervalo xD                    \n"
          ]
        }
      ]
    },
    {
      "cell_type": "code",
      "source": [
        ""
      ],
      "metadata": {
        "id": "vE3d0Q-xPZKT"
      },
      "execution_count": null,
      "outputs": []
    }
  ]
}